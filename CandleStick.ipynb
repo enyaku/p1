
import pandas as pd
import matplotlib.pyplot as plt
from matplotlib.finance import candlestick2_ohlc, volume_overlay



from datetime import datetime, date
import pandas as pd
import csv


from pandas_ply import install_ply, X, sym_call

install_ply(pd)



csv_path = "/Users/yuanyue/Documents/GitHub/p1/n255.csv" ##csvファイルの場所を指定
data = pd.read_csv(csv_path, delimiter=",")

##データを簡単に確認 ： 新しいデータセットの場合は必須ですね

print(data.head(10))
print("------------")



# 2016年上半期の日経平均のデータを読み込む
start_date = "2016-01-01"
end_date = "2016-06-30"
df = pd.DataFrame(index=pd.date_range(start_date, end_date))
df = df.join(pd.read_csv("n225.csv", index_col="Date", parse_dates=True))
df = df.dropna()

# pandas.DataFrameにデータが格納された
df.head()


